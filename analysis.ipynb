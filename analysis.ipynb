{
 "cells": [
  {
   "cell_type": "code",
   "execution_count": 139,
   "metadata": {},
   "outputs": [],
   "source": [
    "import yaml\n",
    "from rosbag.bag import Bag"
   ]
  },
  {
   "cell_type": "code",
   "execution_count": 140,
   "metadata": {},
   "outputs": [],
   "source": [
    "bag1_filename = 'rosbags/record_2024_03_27_10_51_34.bag'\n",
    "bag2_filename = 'rosbags/record_2024_03_27_11_03_09.bag'"
   ]
  },
  {
   "cell_type": "code",
   "execution_count": 141,
   "metadata": {},
   "outputs": [],
   "source": [
    "bag = Bag(bag1_filename, 'r')\n",
    "bag_info = yaml.load(bag._get_yaml_info(), Loader=yaml.Loader)\n",
    "with open('bag_info.yaml', 'w') as file:\n",
    "    yaml.dump(bag_info, file)"
   ]
  },
  {
   "cell_type": "code",
   "execution_count": 142,
   "metadata": {},
   "outputs": [
    {
     "name": "stdout",
     "output_type": "stream",
     "text": [
      "Topics: dict_keys(['/audio', '/joint_states', '/xtion/rgb/image_raw_throttled'])\n",
      "Types: ['audio_common_msgs/AudioData', 'sensor_msgs/JointState', 'sensor_msgs/Image']\n"
     ]
    }
   ],
   "source": [
    "topics = bag.get_type_and_topic_info()[1].keys()\n",
    "types = [val[0] for val in bag.get_type_and_topic_info()[1].values()]\n",
    "\n",
    "print('Topics:', topics)\n",
    "print('Types:', types)"
   ]
  },
  {
   "cell_type": "code",
   "execution_count": 143,
   "metadata": {},
   "outputs": [],
   "source": [
    "import cv2\n",
    "from cv_bridge import CvBridge\n",
    "\n",
    "bridge = CvBridge()\n",
    "\n",
    "for i, (_, message, t) in enumerate(bag.read_messages(topics='/xtion/rgb/image_raw_throttled')):\n",
    "    cv2_image = bridge.imgmsg_to_cv2(message, desired_encoding='passthrough')\n",
    "    cv2_image = cv2.cvtColor(cv2_image, cv2.COLOR_BGR2RGB)\n",
    "    cv2.imwrite(f'images/frame{i:04d}.jpg', cv2_image)"
   ]
  },
  {
   "cell_type": "code",
   "execution_count": 144,
   "metadata": {},
   "outputs": [
    {
     "name": "stderr",
     "output_type": "stream",
     "text": [
      "ffmpeg version 6.1.1 Copyright (c) 2000-2023 the FFmpeg developers\n",
      "  built with clang version 16.0.6\n",
      "  configuration: --prefix=/Users/runner/miniforge3/conda-bld/ffmpeg_1710227269443/_h_env_placehold_placehold_placehold_placehold_placehold_placehold_placehold_placehold_placehold_placehold_placehold_placehold_placehold_placehold_placehold_placehold_placehold_placehold_placehold_pl --cc=arm64-apple-darwin20.0.0-clang --cxx=arm64-apple-darwin20.0.0-clang++ --nm=arm64-apple-darwin20.0.0-nm --ar=arm64-apple-darwin20.0.0-ar --disable-doc --disable-openssl --enable-demuxer=dash --enable-hardcoded-tables --enable-libfreetype --enable-libharfbuzz --enable-libfontconfig --enable-libopenh264 --enable-libdav1d --enable-cross-compile --arch=arm64 --target-os=darwin --cross-prefix=arm64-apple-darwin20.0.0- --host-cc=/Users/runner/miniforge3/conda-bld/ffmpeg_1710227269443/_build_env/bin/x86_64-apple-darwin13.4.0-clang --enable-neon --enable-gnutls --enable-libmp3lame --enable-libvpx --enable-libass --enable-pthreads --enable-libopenvino --enable-gpl --enable-libx264 --enable-libx265 --enable-libaom --enable-libsvtav1 --enable-libxml2 --enable-pic --enable-shared --disable-static --enable-version3 --enable-zlib --enable-libopus --pkg-config=/Users/runner/miniforge3/conda-bld/ffmpeg_1710227269443/_build_env/bin/pkg-config\n",
      "  libavutil      58. 29.100 / 58. 29.100\n",
      "  libavcodec     60. 31.102 / 60. 31.102\n",
      "  libavformat    60. 16.100 / 60. 16.100\n",
      "  libavdevice    60.  3.100 / 60.  3.100\n",
      "  libavfilter     9. 12.100 /  9. 12.100\n",
      "  libswscale      7.  5.100 /  7.  5.100\n",
      "  libswresample   4. 12.100 /  4. 12.100\n",
      "  libpostproc    57.  3.100 / 57.  3.100\n",
      "Input #0, image2, from 'images/frame%04d.jpg':\n",
      "  Duration: 00:01:46.96, start: 0.000000, bitrate: N/A\n",
      "  Stream #0:0: Video: mjpeg (Baseline), yuvj420p(pc, bt470bg/unknown/unknown), 640x480 [SAR 1:1 DAR 4:3], 25 fps, 25 tbr, 25 tbn\n",
      "Stream mapping:\n",
      "  Stream #0:0 -> #0:0 (mjpeg (native) -> mpeg4 (native))\n",
      "Press [q] to stop, [?] for help\n",
      "[swscaler @ 0x1480b8000] deprecated pixel format used, make sure you did set range correctly\n",
      "[swscaler @ 0x1586a8000] deprecated pixel format used, make sure you did set range correctly\n",
      "[swscaler @ 0x1380c8000] deprecated pixel format used, make sure you did set range correctly\n",
      "[swscaler @ 0x128008000] deprecated pixel format used, make sure you did set range correctly\n",
      "Output #0, avi, to 'video.avi':\n",
      "  Metadata:\n",
      "    ISFT            : Lavf60.16.100\n",
      "  Stream #0:0: Video: mpeg4 (FMP4 / 0x34504D46), yuv420p(tv, bt470bg/unknown/unknown, progressive), 640x480 [SAR 1:1 DAR 4:3], q=2-31, 200 kb/s, 3.75 fps, 3.75 tbn\n",
      "    Metadata:\n",
      "      encoder         : Lavc60.31.102 mpeg4\n",
      "    Side data:\n",
      "      cpb: bitrate max/min/avg: 0/0/200000 buffer size: 0 vbv_delay: N/A\n",
      "[out#0/avi @ 0x154634620] video:17525kB audio:0kB subtitle:0kB other streams:0kB global headers:0kB muxing overhead: 0.397175%\n",
      "frame= 2674 fps=662 q=6.5 Lsize=   17594kB time=00:11:52.19 bitrate= 202.4kbits/s speed= 176x    \n"
     ]
    },
    {
     "data": {
      "text/plain": [
       "CompletedProcess(args=['ffmpeg', '-r', '3.7532', '-i', 'images/frame%04d.jpg', 'video.avi'], returncode=0)"
      ]
     },
     "execution_count": 144,
     "metadata": {},
     "output_type": "execute_result"
    }
   ],
   "source": [
    "# Extract video\n",
    "def get_fps():\n",
    "    for topic in bag_info['topics']:\n",
    "        if topic['type'] == 'sensor_msgs/Image':\n",
    "            return topic['frequency']\n",
    "    return None\n",
    "\n",
    "import subprocess\n",
    "subprocess.run(['ffmpeg', '-r', str(get_fps()), '-i', r'images/frame%04d.jpg', 'video.avi'])"
   ]
  },
  {
   "cell_type": "code",
   "execution_count": 145,
   "metadata": {},
   "outputs": [],
   "source": [
    "# Extract audio\n",
    "with open('audio.mp3', 'wb') as f:\n",
    "    for i, (_, message, t) in enumerate(bag.read_messages(topics='/audio')):\n",
    "        for byte in message.data:\n",
    "            f.write(int.to_bytes(byte))"
   ]
  },
  {
   "cell_type": "code",
   "execution_count": 146,
   "metadata": {},
   "outputs": [
    {
     "name": "stdout",
     "output_type": "stream",
     "text": [
      "0\n"
     ]
    }
   ],
   "source": [
    "# Find audio delay\n",
    "first_video_timestamp_ns = next(bag.read_messages(topics='/xtion/rgb/image_raw_throttled')).timestamp\n",
    "first_audio_timestamp_ns = next(bag.read_messages(topics='/audio')).timestamp\n",
    "audio_delay_in_seconds = (first_audio_timestamp_ns - first_video_timestamp_ns) / 1000000000\n",
    "print(audio_delay_in_seconds)"
   ]
  },
  {
   "cell_type": "code",
   "execution_count": 147,
   "metadata": {},
   "outputs": [
    {
     "name": "stderr",
     "output_type": "stream",
     "text": [
      "ffmpeg version 6.1.1 Copyright (c) 2000-2023 the FFmpeg developers\n",
      "  built with clang version 16.0.6\n",
      "  configuration: --prefix=/Users/runner/miniforge3/conda-bld/ffmpeg_1710227269443/_h_env_placehold_placehold_placehold_placehold_placehold_placehold_placehold_placehold_placehold_placehold_placehold_placehold_placehold_placehold_placehold_placehold_placehold_placehold_placehold_pl --cc=arm64-apple-darwin20.0.0-clang --cxx=arm64-apple-darwin20.0.0-clang++ --nm=arm64-apple-darwin20.0.0-nm --ar=arm64-apple-darwin20.0.0-ar --disable-doc --disable-openssl --enable-demuxer=dash --enable-hardcoded-tables --enable-libfreetype --enable-libharfbuzz --enable-libfontconfig --enable-libopenh264 --enable-libdav1d --enable-cross-compile --arch=arm64 --target-os=darwin --cross-prefix=arm64-apple-darwin20.0.0- --host-cc=/Users/runner/miniforge3/conda-bld/ffmpeg_1710227269443/_build_env/bin/x86_64-apple-darwin13.4.0-clang --enable-neon --enable-gnutls --enable-libmp3lame --enable-libvpx --enable-libass --enable-pthreads --enable-libopenvino --enable-gpl --enable-libx264 --enable-libx265 --enable-libaom --enable-libsvtav1 --enable-libxml2 --enable-pic --enable-shared --disable-static --enable-version3 --enable-zlib --enable-libopus --pkg-config=/Users/runner/miniforge3/conda-bld/ffmpeg_1710227269443/_build_env/bin/pkg-config\n",
      "  libavutil      58. 29.100 / 58. 29.100\n",
      "  libavcodec     60. 31.102 / 60. 31.102\n",
      "  libavformat    60. 16.100 / 60. 16.100\n",
      "  libavdevice    60.  3.100 / 60.  3.100\n",
      "  libavfilter     9. 12.100 /  9. 12.100\n",
      "  libswscale      7.  5.100 /  7.  5.100\n",
      "  libswresample   4. 12.100 /  4. 12.100\n",
      "  libpostproc    57.  3.100 / 57.  3.100\n",
      "Input #0, avi, from 'video.avi':\n",
      "  Metadata:\n",
      "    software        : Lavf60.16.100\n",
      "  Duration: 00:11:52.46, start: 0.000000, bitrate: 202 kb/s\n",
      "  Stream #0:0: Video: mpeg4 (Simple Profile) (FMP4 / 0x34504D46), yuv420p, 640x480 [SAR 1:1 DAR 4:3], 201 kb/s, 3.75 fps, 3.75 tbr, 3.75 tbn\n",
      "[mp3 @ 0x12070f9f0] Estimating duration from bitrate, this may be inaccurate\n",
      "Input #1, mp3, from 'audio.mp3':\n",
      "  Duration: 00:05:11.08, start: 0.000000, bitrate: 109 kb/s\n",
      "  Stream #1:0: Audio: mp3, 16000 Hz, mono, fltp, 109 kb/s\n",
      "Stream mapping:\n",
      "  Stream #0:0 -> #0:0 (copy)\n",
      "  Stream #1:0 -> #0:1 (mp3 (mp3float) -> aac (native))\n",
      "Press [q] to stop, [?] for help\n",
      "Output #0, mp4, to 'output.mp4':\n",
      "  Metadata:\n",
      "    software        : Lavf60.16.100\n",
      "    encoder         : Lavf60.16.100\n",
      "  Stream #0:0: Video: mpeg4 (Simple Profile) (mp4v / 0x7634706D), yuv420p, 640x480 [SAR 1:1 DAR 4:3], q=2-31, 201 kb/s, 3.75 fps, 3.75 tbr, 18766 tbn\n",
      "  Stream #0:1: Audio: aac (LC) (mp4a / 0x6134706D), 16000 Hz, mono, fltp, 69 kb/s\n",
      "    Metadata:\n",
      "      encoder         : Lavc60.31.102 aac\n",
      "[out#0/mp4 @ 0x120710f10] video:17525kB audio:2186kB subtitle:0kB other streams:0kB global headers:0kB muxing overhead: 0.234099%\n",
      "size=   19757kB time=00:11:52.19 bitrate= 227.3kbits/s speed= 356x    \n",
      "[aac @ 0x12071d140] Qavg: 63408.305\n"
     ]
    },
    {
     "data": {
      "text/plain": [
       "CompletedProcess(args=['ffmpeg', '-i', 'video.avi', '-i', 'audio.mp3', '-c:v', 'copy', '-map', '0:v', '-map', '1:a', '-y', 'output.mp4'], returncode=0)"
      ]
     },
     "execution_count": 147,
     "metadata": {},
     "output_type": "execute_result"
    }
   ],
   "source": [
    "# Combine video and audio\n",
    "subprocess.run(['ffmpeg', '-i', 'video.avi', '-i', 'audio.mp3', '-c:v', 'copy', '-map', '0:v', '-map', '1:a', '-y', 'output.mp4'])"
   ]
  }
 ],
 "metadata": {
  "kernelspec": {
   "display_name": "ros_env",
   "language": "python",
   "name": "python3"
  },
  "language_info": {
   "codemirror_mode": {
    "name": "ipython",
    "version": 3
   },
   "file_extension": ".py",
   "mimetype": "text/x-python",
   "name": "python",
   "nbconvert_exporter": "python",
   "pygments_lexer": "ipython3",
   "version": "3.11.8"
  }
 },
 "nbformat": 4,
 "nbformat_minor": 2
}
