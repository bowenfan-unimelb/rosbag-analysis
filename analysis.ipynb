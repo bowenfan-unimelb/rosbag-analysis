{
 "cells": [
  {
   "cell_type": "code",
   "execution_count": 1,
   "metadata": {},
   "outputs": [],
   "source": [
    "import yaml\n",
    "from rosbag.bag import Bag"
   ]
  },
  {
   "cell_type": "code",
   "execution_count": 2,
   "metadata": {},
   "outputs": [],
   "source": [
    "bag1_filename = 'rosbags/record_2024_03_27_10_51_34.bag'\n",
    "bag2_filename = 'rosbags/record_2024_03_27_11_03_09.bag'"
   ]
  },
  {
   "cell_type": "code",
   "execution_count": 3,
   "metadata": {},
   "outputs": [],
   "source": [
    "bag = Bag(bag2_filename, 'r')\n",
    "bag_info = yaml.load(bag._get_yaml_info(), Loader=yaml.Loader)\n",
    "with open('bag_info.yaml', 'w') as file:\n",
    "    yaml.dump(bag_info, file)"
   ]
  },
  {
   "cell_type": "code",
   "execution_count": 4,
   "metadata": {},
   "outputs": [
    {
     "name": "stdout",
     "output_type": "stream",
     "text": [
      "Topics: dict_keys(['/audio', '/joint_states', '/xtion/rgb/image_raw_throttled'])\n",
      "Types: ['audio_common_msgs/AudioData', 'sensor_msgs/JointState', 'sensor_msgs/Image']\n"
     ]
    }
   ],
   "source": [
    "topics = bag.get_type_and_topic_info()[1].keys()\n",
    "types = [val[0] for val in bag.get_type_and_topic_info()[1].values()]\n",
    "\n",
    "print('Topics:', topics)\n",
    "print('Types:', types)"
   ]
  },
  {
   "cell_type": "code",
   "execution_count": 5,
   "metadata": {},
   "outputs": [],
   "source": [
    "import cv2\n",
    "from cv_bridge import CvBridge\n",
    "\n",
    "bridge = CvBridge()\n",
    "\n",
    "for i, (_, message, t) in enumerate(bag.read_messages(topics='/xtion/rgb/image_raw_throttled')):\n",
    "    cv2_image = bridge.imgmsg_to_cv2(message, desired_encoding='passthrough')\n",
    "    cv2_image = cv2.cvtColor(cv2_image, cv2.COLOR_BGR2RGB)\n",
    "    cv2.imwrite(f'images/frame{i:04d}.jpg', cv2_image)"
   ]
  },
  {
   "cell_type": "code",
   "execution_count": 6,
   "metadata": {},
   "outputs": [
    {
     "name": "stderr",
     "output_type": "stream",
     "text": [
      "ffmpeg version 6.1.1 Copyright (c) 2000-2023 the FFmpeg developers\n",
      "  built with clang version 16.0.6\n",
      "  configuration: --prefix=/Users/runner/miniforge3/conda-bld/ffmpeg_1710227269443/_h_env_placehold_placehold_placehold_placehold_placehold_placehold_placehold_placehold_placehold_placehold_placehold_placehold_placehold_placehold_placehold_placehold_placehold_placehold_placehold_pl --cc=arm64-apple-darwin20.0.0-clang --cxx=arm64-apple-darwin20.0.0-clang++ --nm=arm64-apple-darwin20.0.0-nm --ar=arm64-apple-darwin20.0.0-ar --disable-doc --disable-openssl --enable-demuxer=dash --enable-hardcoded-tables --enable-libfreetype --enable-libharfbuzz --enable-libfontconfig --enable-libopenh264 --enable-libdav1d --enable-cross-compile --arch=arm64 --target-os=darwin --cross-prefix=arm64-apple-darwin20.0.0- --host-cc=/Users/runner/miniforge3/conda-bld/ffmpeg_1710227269443/_build_env/bin/x86_64-apple-darwin13.4.0-clang --enable-neon --enable-gnutls --enable-libmp3lame --enable-libvpx --enable-libass --enable-pthreads --enable-libopenvino --enable-gpl --enable-libx264 --enable-libx265 --enable-libaom --enable-libsvtav1 --enable-libxml2 --enable-pic --enable-shared --disable-static --enable-version3 --enable-zlib --enable-libopus --pkg-config=/Users/runner/miniforge3/conda-bld/ffmpeg_1710227269443/_build_env/bin/pkg-config\n",
      "  libavutil      58. 29.100 / 58. 29.100\n",
      "  libavcodec     60. 31.102 / 60. 31.102\n",
      "  libavformat    60. 16.100 / 60. 16.100\n",
      "  libavdevice    60.  3.100 / 60.  3.100\n",
      "  libavfilter     9. 12.100 /  9. 12.100\n",
      "  libswscale      7.  5.100 /  7.  5.100\n",
      "  libswresample   4. 12.100 /  4. 12.100\n",
      "  libpostproc    57.  3.100 / 57.  3.100\n",
      "Input #0, image2, from 'images/frame%04d.jpg':\n",
      "  Duration: 00:01:46.96, start: 0.000000, bitrate: N/A\n",
      "  Stream #0:0: Video: mjpeg (Baseline), yuvj420p(pc, bt470bg/unknown/unknown), 640x480 [SAR 1:1 DAR 4:3], 25 fps, 25 tbr, 25 tbn\n",
      "Stream mapping:\n",
      "  Stream #0:0 -> #0:0 (mjpeg (native) -> mpeg4 (native))\n",
      "Press [q] to stop, [?] for help\n",
      "[swscaler @ 0x1200b8000] deprecated pixel format used, make sure you did set range correctly\n",
      "[swscaler @ 0x1100c8000] deprecated pixel format used, make sure you did set range correctly\n",
      "[swscaler @ 0x148008000] deprecated pixel format used, make sure you did set range correctly\n",
      "[swscaler @ 0x140688000] deprecated pixel format used, make sure you did set range correctly\n",
      "Output #0, avi, to 'video.avi':\n",
      "  Metadata:\n",
      "    ISFT            : Lavf60.16.100\n",
      "  Stream #0:0: Video: mpeg4 (FMP4 / 0x34504D46), yuv420p(tv, bt470bg/unknown/unknown, progressive), 640x480 [SAR 1:1 DAR 4:3], q=2-31, 200 kb/s, 3.75 fps, 3.75 tbn\n",
      "    Metadata:\n",
      "      encoder         : Lavc60.31.102 mpeg4\n",
      "    Side data:\n",
      "      cpb: bitrate max/min/avg: 0/0/200000 buffer size: 0 vbv_delay: N/A\n",
      "[out#0/avi @ 0x13cf0f830] video:17548kB audio:0kB subtitle:0kB other streams:0kB global headers:0kB muxing overhead: 0.396611%\n",
      "frame= 2674 fps=703 q=6.2 Lsize=   17618kB time=00:11:52.34 bitrate= 202.6kbits/s speed= 187x    \n"
     ]
    },
    {
     "data": {
      "text/plain": [
       "CompletedProcess(args=['ffmpeg', '-r', '3.7524', '-i', 'images/frame%04d.jpg', 'video.avi'], returncode=0)"
      ]
     },
     "execution_count": 6,
     "metadata": {},
     "output_type": "execute_result"
    }
   ],
   "source": [
    "# Extract video\n",
    "def get_fps():\n",
    "    for topic in bag_info['topics']:\n",
    "        if topic['type'] == 'sensor_msgs/Image':\n",
    "            return topic['frequency']\n",
    "    return None\n",
    "\n",
    "import subprocess\n",
    "subprocess.run(['ffmpeg', '-r', str(get_fps()), '-i', r'images/frame%04d.jpg', 'video.avi'])"
   ]
  },
  {
   "cell_type": "code",
   "execution_count": 7,
   "metadata": {},
   "outputs": [],
   "source": [
    "# Extract audio\n",
    "with open('audio.mp3', 'wb') as f:\n",
    "    for i, (_, message, t) in enumerate(bag.read_messages(topics='/audio')):\n",
    "        for byte in message.data:\n",
    "            f.write(int.to_bytes(byte))"
   ]
  },
  {
   "cell_type": "code",
   "execution_count": 8,
   "metadata": {},
   "outputs": [
    {
     "name": "stdout",
     "output_type": "stream",
     "text": [
      "0\n"
     ]
    }
   ],
   "source": [
    "# Find audio delay\n",
    "first_video_timestamp_ns = next(bag.read_messages(topics='/xtion/rgb/image_raw_throttled')).timestamp\n",
    "first_audio_timestamp_ns = next(bag.read_messages(topics='/audio')).timestamp\n",
    "audio_delay_in_seconds = (first_audio_timestamp_ns - first_video_timestamp_ns) / 1000000000\n",
    "print(audio_delay_in_seconds)"
   ]
  },
  {
   "cell_type": "code",
   "execution_count": 9,
   "metadata": {},
   "outputs": [
    {
     "name": "stderr",
     "output_type": "stream",
     "text": [
      "ffmpeg version 6.1.1 Copyright (c) 2000-2023 the FFmpeg developers\n",
      "  built with clang version 16.0.6\n",
      "  configuration: --prefix=/Users/runner/miniforge3/conda-bld/ffmpeg_1710227269443/_h_env_placehold_placehold_placehold_placehold_placehold_placehold_placehold_placehold_placehold_placehold_placehold_placehold_placehold_placehold_placehold_placehold_placehold_placehold_placehold_pl --cc=arm64-apple-darwin20.0.0-clang --cxx=arm64-apple-darwin20.0.0-clang++ --nm=arm64-apple-darwin20.0.0-nm --ar=arm64-apple-darwin20.0.0-ar --disable-doc --disable-openssl --enable-demuxer=dash --enable-hardcoded-tables --enable-libfreetype --enable-libharfbuzz --enable-libfontconfig --enable-libopenh264 --enable-libdav1d --enable-cross-compile --arch=arm64 --target-os=darwin --cross-prefix=arm64-apple-darwin20.0.0- --host-cc=/Users/runner/miniforge3/conda-bld/ffmpeg_1710227269443/_build_env/bin/x86_64-apple-darwin13.4.0-clang --enable-neon --enable-gnutls --enable-libmp3lame --enable-libvpx --enable-libass --enable-pthreads --enable-libopenvino --enable-gpl --enable-libx264 --enable-libx265 --enable-libaom --enable-libsvtav1 --enable-libxml2 --enable-pic --enable-shared --disable-static --enable-version3 --enable-zlib --enable-libopus --pkg-config=/Users/runner/miniforge3/conda-bld/ffmpeg_1710227269443/_build_env/bin/pkg-config\n",
      "  libavutil      58. 29.100 / 58. 29.100\n",
      "  libavcodec     60. 31.102 / 60. 31.102\n",
      "  libavformat    60. 16.100 / 60. 16.100\n",
      "  libavdevice    60.  3.100 / 60.  3.100\n",
      "  libavfilter     9. 12.100 /  9. 12.100\n",
      "  libswscale      7.  5.100 /  7.  5.100\n",
      "  libswresample   4. 12.100 /  4. 12.100\n",
      "  libpostproc    57.  3.100 / 57.  3.100\n",
      "Input #0, avi, from 'video.avi':\n",
      "  Metadata:\n",
      "    software        : Lavf60.16.100\n",
      "  Duration: 00:11:52.61, start: 0.000000, bitrate: 202 kb/s\n",
      "  Stream #0:0: Video: mpeg4 (Simple Profile) (FMP4 / 0x34504D46), yuv420p, 640x480 [SAR 1:1 DAR 4:3], 201 kb/s, 3.75 fps, 3.75 tbr, 3.75 tbn\n",
      "[mp3 @ 0x14190ef90] Estimating duration from bitrate, this may be inaccurate\n",
      "Input #1, mp3, from 'audio.mp3':\n",
      "  Duration: 00:11:49.50, start: 0.000000, bitrate: 107 kb/s\n",
      "  Stream #1:0: Audio: mp3, 16000 Hz, mono, fltp, 107 kb/s\n",
      "Stream mapping:\n",
      "  Stream #0:0 -> #0:0 (copy)\n",
      "  Stream #1:0 -> #0:1 (mp3 (mp3float) -> aac (native))\n",
      "Press [q] to stop, [?] for help\n",
      "Output #0, mp4, to 'combined.mp4':\n",
      "  Metadata:\n",
      "    software        : Lavf60.16.100\n",
      "    encoder         : Lavf60.16.100\n",
      "  Stream #0:0: Video: mpeg4 (Simple Profile) (mp4v / 0x7634706D), yuv420p, 640x480 [SAR 1:1 DAR 4:3], q=2-31, 201 kb/s, 3.75 fps, 3.75 tbr, 18762 tbn\n",
      "  Stream #0:1: Audio: aac (LC) (mp4a / 0x6134706D), 16000 Hz, mono, fltp, 69 kb/s\n",
      "    Metadata:\n",
      "      encoder         : Lavc60.31.102 aac\n",
      "[out#0/mp4 @ 0x1419104b0] video:17548kB audio:4836kB subtitle:0kB other streams:0kB global headers:0kB muxing overhead: 0.390400%\n",
      "size=   22472kB time=00:11:52.34 bitrate= 258.4kbits/s speed= 150x    \n",
      "[aac @ 0x14191c310] Qavg: 64442.141\n"
     ]
    },
    {
     "data": {
      "text/plain": [
       "CompletedProcess(args=['ffmpeg', '-i', 'video.avi', '-i', 'audio.mp3', '-c:v', 'copy', '-map', '0:v', '-map', '1:a', '-y', 'combined.mp4'], returncode=0)"
      ]
     },
     "execution_count": 9,
     "metadata": {},
     "output_type": "execute_result"
    }
   ],
   "source": [
    "# Combine video and audio\n",
    "subprocess.run(['ffmpeg', '-i', 'video.avi', '-i', 'audio.mp3', '-c:v', 'copy', '-map', '0:v', '-map', '1:a', '-y', 'combined.mp4'])"
   ]
  },
  {
   "cell_type": "code",
   "execution_count": 10,
   "metadata": {},
   "outputs": [
    {
     "name": "stderr",
     "output_type": "stream",
     "text": [
      "ffmpeg version 6.1.1 Copyright (c) 2000-2023 the FFmpeg developers\n",
      "  built with clang version 16.0.6\n",
      "  configuration: --prefix=/Users/runner/miniforge3/conda-bld/ffmpeg_1710227269443/_h_env_placehold_placehold_placehold_placehold_placehold_placehold_placehold_placehold_placehold_placehold_placehold_placehold_placehold_placehold_placehold_placehold_placehold_placehold_placehold_pl --cc=arm64-apple-darwin20.0.0-clang --cxx=arm64-apple-darwin20.0.0-clang++ --nm=arm64-apple-darwin20.0.0-nm --ar=arm64-apple-darwin20.0.0-ar --disable-doc --disable-openssl --enable-demuxer=dash --enable-hardcoded-tables --enable-libfreetype --enable-libharfbuzz --enable-libfontconfig --enable-libopenh264 --enable-libdav1d --enable-cross-compile --arch=arm64 --target-os=darwin --cross-prefix=arm64-apple-darwin20.0.0- --host-cc=/Users/runner/miniforge3/conda-bld/ffmpeg_1710227269443/_build_env/bin/x86_64-apple-darwin13.4.0-clang --enable-neon --enable-gnutls --enable-libmp3lame --enable-libvpx --enable-libass --enable-pthreads --enable-libopenvino --enable-gpl --enable-libx264 --enable-libx265 --enable-libaom --enable-libsvtav1 --enable-libxml2 --enable-pic --enable-shared --disable-static --enable-version3 --enable-zlib --enable-libopus --pkg-config=/Users/runner/miniforge3/conda-bld/ffmpeg_1710227269443/_build_env/bin/pkg-config\n",
      "  libavutil      58. 29.100 / 58. 29.100\n",
      "  libavcodec     60. 31.102 / 60. 31.102\n",
      "  libavformat    60. 16.100 / 60. 16.100\n",
      "  libavdevice    60.  3.100 / 60.  3.100\n",
      "  libavfilter     9. 12.100 /  9. 12.100\n",
      "  libswscale      7.  5.100 /  7.  5.100\n",
      "  libswresample   4. 12.100 /  4. 12.100\n",
      "  libpostproc    57.  3.100 / 57.  3.100\n",
      "Input #0, mov,mp4,m4a,3gp,3g2,mj2, from 'combined.mp4':\n",
      "  Metadata:\n",
      "    major_brand     : isom\n",
      "    minor_version   : 512\n",
      "    compatible_brands: isomiso2mp41\n",
      "    encoder         : Lavf60.16.100\n",
      "  Duration: 00:11:52.61, start: 0.000000, bitrate: 258 kb/s\n",
      "  Stream #0:0[0x1](und): Video: mpeg4 (Simple Profile) (mp4v / 0x7634706D), yuv420p, 640x480 [SAR 1:1 DAR 4:3], 201 kb/s, 3.75 fps, 3.75 tbr, 18762 tbn (default)\n",
      "    Metadata:\n",
      "      handler_name    : VideoHandler\n",
      "      vendor_id       : [0][0][0][0]\n",
      "  Stream #0:1[0x2](und): Audio: aac (LC) (mp4a / 0x6134706D), 16000 Hz, mono, fltp, 55 kb/s (default)\n",
      "    Metadata:\n",
      "      handler_name    : SoundHandler\n",
      "      vendor_id       : [0][0][0][0]\n",
      "Stream mapping:\n",
      "  Stream #0:0 -> #0:0 (mpeg4 (native) -> h264 (libx264))\n",
      "  Stream #0:1 -> #0:1 (copy)\n",
      "Press [q] to stop, [?] for help\n",
      "[libx264 @ 0x120711e10] using SAR=1/1\n",
      "[libx264 @ 0x120711e10] using cpu capabilities: ARMv8 NEON\n",
      "[libx264 @ 0x120711e10] profile High, level 2.2, 4:2:0, 8-bit\n",
      "[libx264 @ 0x120711e10] 264 - core 164 r3095 baee400 - H.264/MPEG-4 AVC codec - Copyleft 2003-2022 - http://www.videolan.org/x264.html - options: cabac=1 ref=3 deblock=1:0:0 analyse=0x3:0x113 me=hex subme=7 psy=1 psy_rd=1.00:0.00 mixed_ref=1 me_range=16 chroma_me=1 trellis=1 8x8dct=1 cqm=0 deadzone=21,11 fast_pskip=1 chroma_qp_offset=-2 threads=15 lookahead_threads=2 sliced_threads=0 nr=0 decimate=1 interlaced=0 bluray_compat=0 constrained_intra=0 bframes=3 b_pyramid=2 b_adapt=1 b_bias=0 direct=1 weightb=1 open_gop=0 weightp=2 keyint=250 keyint_min=3 scenecut=40 intra_refresh=0 rc_lookahead=40 rc=crf mbtree=1 crf=23.0 qcomp=0.60 qpmin=0 qpmax=69 qpstep=4 ip_ratio=1.40 aq=1:1.00\n",
      "Output #0, mp4, to 'output.mp4':\n",
      "  Metadata:\n",
      "    major_brand     : isom\n",
      "    minor_version   : 512\n",
      "    compatible_brands: isomiso2mp41\n",
      "    encoder         : Lavf60.16.100\n",
      "  Stream #0:0(und): Video: h264 (avc1 / 0x31637661), yuv420p(progressive), 640x480 [SAR 1:1 DAR 4:3], q=2-31, 3.75 fps, 18762 tbn (default)\n",
      "    Metadata:\n",
      "      handler_name    : VideoHandler\n",
      "      vendor_id       : [0][0][0][0]\n",
      "      encoder         : Lavc60.31.102 libx264\n",
      "    Side data:\n",
      "      cpb: bitrate max/min/avg: 0/0/0 buffer size: 0 vbv_delay: N/A\n",
      "  Stream #0:1(und): Audio: aac (LC) (mp4a / 0x6134706D), 16000 Hz, mono, fltp, 55 kb/s (default)\n",
      "    Metadata:\n",
      "      handler_name    : SoundHandler\n",
      "      vendor_id       : [0][0][0][0]\n",
      "[out#0/mp4 @ 0x120710cf0] video:21285kB audio:4836kB subtitle:0kB other streams:0kB global headers:0kB muxing overhead: 0.379837%\n",
      "frame= 2674 fps=689 q=-1.0 Lsize=   26220kB time=00:11:52.06 bitrate= 301.7kbits/s speed= 184x    \n",
      "[libx264 @ 0x120711e10] frame I:12    Avg QP:11.18  size: 43879\n",
      "[libx264 @ 0x120711e10] frame P:1677  Avg QP:16.53  size: 10707\n",
      "[libx264 @ 0x120711e10] frame B:985   Avg QP:21.85  size:  3363\n",
      "[libx264 @ 0x120711e10] consecutive B-frames: 45.5% 11.7% 13.0% 29.8%\n",
      "[libx264 @ 0x120711e10] mb I  I16..4: 26.2% 50.2% 23.6%\n",
      "[libx264 @ 0x120711e10] mb P  I16..4:  1.7%  6.0%  0.9%  P16..4: 28.7% 10.5%  9.1%  0.0%  0.0%    skip:43.1%\n",
      "[libx264 @ 0x120711e10] mb B  I16..4:  0.3%  1.9%  0.1%  B16..8: 36.0%  6.6%  2.1%  direct: 2.2%  skip:50.8%  L0:51.0% L1:35.8% BI:13.2%\n",
      "[libx264 @ 0x120711e10] 8x8 transform intra:69.7% inter:81.2%\n",
      "[libx264 @ 0x120711e10] coded y,uvDC,uvAC intra: 53.2% 46.9% 17.6% inter: 18.1% 11.0% 4.4%\n",
      "[libx264 @ 0x120711e10] i16 v,h,dc,p: 39% 36% 20%  5%\n",
      "[libx264 @ 0x120711e10] i8 v,h,dc,ddl,ddr,vr,hd,vl,hu: 15% 24% 45%  3%  2%  2%  2%  2%  5%\n",
      "[libx264 @ 0x120711e10] i4 v,h,dc,ddl,ddr,vr,hd,vl,hu: 25% 31% 16%  3%  5%  6%  5%  3%  6%\n",
      "[libx264 @ 0x120711e10] i8c dc,h,v,p: 53% 25% 19%  3%\n",
      "[libx264 @ 0x120711e10] Weighted P-Frames: Y:1.0% UV:0.2%\n",
      "[libx264 @ 0x120711e10] ref P L0: 75.5%  8.4% 10.6%  5.4%  0.1%\n",
      "[libx264 @ 0x120711e10] ref B L0: 82.3% 14.3%  3.4%\n",
      "[libx264 @ 0x120711e10] ref B L1: 95.4%  4.6%\n",
      "[libx264 @ 0x120711e10] kb/s:244.68\n"
     ]
    },
    {
     "data": {
      "text/plain": [
       "CompletedProcess(args=['ffmpeg', '-i', 'combined.mp4', '-vcodec', 'libx264', '-acodec', 'copy', 'output.mp4'], returncode=0)"
      ]
     },
     "execution_count": 10,
     "metadata": {},
     "output_type": "execute_result"
    }
   ],
   "source": [
    "subprocess.run(['ffmpeg', '-i', 'combined.mp4', '-vcodec', 'libx264', '-acodec', 'copy', 'output.mp4'])"
   ]
  },
  {
   "cell_type": "code",
   "execution_count": 1,
   "metadata": {},
   "outputs": [],
   "source": [
    "import os\n",
    "os.remove('bag_info.yaml')\n",
    "os.remove('combined.mp4')\n",
    "os.remove('video.avi')"
   ]
  }
 ],
 "metadata": {
  "kernelspec": {
   "display_name": "ros_env",
   "language": "python",
   "name": "python3"
  },
  "language_info": {
   "codemirror_mode": {
    "name": "ipython",
    "version": 3
   },
   "file_extension": ".py",
   "mimetype": "text/x-python",
   "name": "python",
   "nbconvert_exporter": "python",
   "pygments_lexer": "ipython3",
   "version": "3.11.8"
  }
 },
 "nbformat": 4,
 "nbformat_minor": 2
}
